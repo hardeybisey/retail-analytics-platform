{
 "cells": [
  {
   "cell_type": "markdown",
   "id": "723bd708",
   "metadata": {},
   "source": [
    "## 1. Calculate the moving average of sales for the past 3 months.\n",
    "columns = sales, month, table=month_sales\n",
    "\n",
    "select \n",
    "    month, \n",
    "    avg(sales) over (order by month desc rows between 2 preceeding and current row) as 3_month_rolling_sales\n",
    "from month_sales\n",
    "\n",
    "## 2. Assign a dense rank to employees based on their salary.\n",
    "columns = emp_id, salary, table=empployee_salary\n",
    "select \n",
    "    empI_id, \n",
    "    dense_rank() over(order by salary desc) as emp_rank\n",
    "from empployee_salary\n",
    "\n",
    "## 3. Retrieve the first and last order date for each customer.\n",
    "columns = customer_id, order_date, table=orders\n",
    "select \n",
    "    customer_id, \n",
    "    min(order_date) as last_order, \n",
    "    max(order_date) as first_order\n",
    "from orders\n",
    "groupby customer_id\n",
    "\n",
    "## 4. Find the Nth highest salary for each department using window functions.\n",
    "columns = staff_id, dept, salary, table=emp_salary\n",
    "set n = 5\n",
    "with dept_salary_rank as (\n",
    "    select \n",
    "        staff_id, \n",
    "        salary, \n",
    "        dense_rank() over (partition by dept order by salary desc) as salary_rank\n",
    ")\n",
    "select * from dept_salary_rank where salary_rank = n\n",
    "\n",
    "\n",
    "\n",
    "## 5. Determine the percentage of total sales contributed by each employee.\n",
    "<!-- one row for each employee sales -->\n",
    "columns = emp_id, sales table=emp_sales\n",
    "\n",
    "with total_sales as (\n",
    "    select sum(sales) as total_sales\n",
    "    from emp_sales\n",
    "     \n",
    ")\n",
    "select \n",
    "    emp_id, \n",
    "    (1 - (e.sales/ s.total_sales)) * 100\n",
    "from emp_sales e\n",
    "left join total_sales s on 1=1\n",
    "<!-- second approach -->\n",
    "select \n",
    "    emp_id, \n",
    "    (sales/ sum(sales) over()) * 100 as pct_total\n",
    "from emp_sales \n",
    "order by pct_total\n",
    "<!-- multiple rows for each employee sales -->\n",
    "with total_emp_sales as (\n",
    "    select emp_id , sum(sales) as total_sales\n",
    "    from emp_sales\n",
    "     \n",
    "),\n",
    "total_sales as (\n",
    "    select sum(sales) as total_sales\n",
    "    from emp_sales\n",
    "     \n",
    ")\n",
    "select \n",
    "    emp_id, \n",
    "    (1 - (e.sales/ s.total_sales)) * 100\n",
    "from total_emp_sales e\n",
    "left join total_sales s on 1=1\n",
    "\n",
    "\n",
    "\n",
    "## 6. Use a CTE to split a full name into first and last names.\n",
    "columns = name, sales table=name_table\n",
    "\n",
    "select \n",
    "    split(name, \" \")[offset(0)] as firstnmae,\n",
    "    split(name, \" \")[offset(1)] as lastname\n",
    "from name_table\n",
    "\n",
    "## 7. Write a CTE to find the longest consecutive streak of sales for an employee."
   ]
  },
  {
   "cell_type": "markdown",
   "id": "091baf9e",
   "metadata": {},
   "source": [
    "with recursive x as (\n",
    "    select 0 as a, 1 as b\n",
    "    union all\n",
    "    select b as x.a, x.b+1 as b\n",
    "    from x \n",
    "    where x.fib < n -1\n",
    ")\n"
   ]
  },
  {
   "cell_type": "markdown",
   "id": "a8bd5798",
   "metadata": {},
   "source": []
  },
  {
   "cell_type": "code",
   "execution_count": 9,
   "id": "4bb435d6",
   "metadata": {},
   "outputs": [],
   "source": [
    "def fib(n):\n",
    "    if n <= 1:\n",
    "        return n\n",
    "    return fib(n-1) + fib(n-2)"
   ]
  },
  {
   "cell_type": "code",
   "execution_count": 10,
   "id": "00681bcf",
   "metadata": {},
   "outputs": [
    {
     "data": {
      "text/plain": [
       "1"
      ]
     },
     "execution_count": 10,
     "metadata": {},
     "output_type": "execute_result"
    }
   ],
   "source": [
    "fib(2)"
   ]
  },
  {
   "cell_type": "markdown",
   "id": "9d8a5ad9",
   "metadata": {},
   "source": [
    "30 most asked SQL questions to clear your next interview - \n",
    "➤ 𝗖𝗼𝗺𝗺𝗼𝗻 𝗧𝗮𝗯𝗹𝗲 𝗘𝘅𝗽𝗿𝗲𝘀𝘀𝗶𝗼𝗻𝘀 (𝗖𝗧𝗘)\n",
    "\n",
    "1. Use a CTE to split a full name into first and last names.\n",
    "2. Write a CTE to find the longest consecutive streak of sales for an employee.\n",
    "3. Generate Fibonacci numbers up to a given limit using a recursive CTE.\n",
    "4. Use a CTE to identify duplicate records in a table.\n",
    "5. Find the total sales for each category and filter categories with sales greater than a threshold using a CTE.\n",
    "\n",
    "➤ 𝗝𝗼𝗶𝗻𝘀 (𝗜𝗻𝗻𝗲𝗿, 𝗢𝘂𝘁𝗲𝗿, 𝗖𝗿𝗼𝘀𝘀, 𝗦𝗲𝗹𝗳)\n",
    "\n",
    "1. Retrieve a list of customers who have placed orders and those who have not placed orders (Full Outer Join).\n",
    "2. Find employees working on multiple projects using a self join.\n",
    "3. Match orders with customers and also display unmatched orders (Left Join).\n",
    "4. Generate a product pair list but exclude pairs with identical products (Cross Join with condition).\n",
    "5. Retrieve employees and their managers using a self join.\n",
    "\n",
    "➤ 𝗦𝘂𝗯𝗾𝘂𝗲𝗿𝗶𝗲𝘀\n",
    "\n",
    "1. Find customers whose total order amount is greater than the average order amount.\n",
    "2. Retrieve employees who earn the lowest salary in their department.\n",
    "3. Identify products that have been ordered more than 10 times using a subquery.\n",
    "4. Find regions where the maximum sales are below a given threshold.\n",
    "\n",
    "➤ 𝗔𝗴𝗴𝗿𝗲𝗴𝗮𝘁𝗲 𝗙𝘂𝗻𝗰𝘁𝗶𝗼𝗻𝘀\n",
    "\n",
    "1. Calculate the median salary for each department.\n",
    "2. Find the total sales for each month and rank them in descending order.\n",
    "3. Count the number of distinct customers for each product.\n",
    "4. Retrieve the top 5 regions by total sales.\n",
    "5. Calculate the average order value for each customer.\n",
    "\n",
    "➤ 𝗜𝗻𝗱𝗲𝘅𝗶𝗻𝗴 𝗮𝗻𝗱 𝗣𝗲𝗿𝗳𝗼𝗿𝗺𝗮𝗻𝗰𝗲\n",
    "\n",
    "1. Write a query to find duplicate values in an indexed column.\n",
    "2. Analyze the impact of adding a composite index on query performance.\n",
    "3. Identify columns with high cardinality that could benefit from indexing\n",
    "4. Compare query execution times before and after adding a clustered index.\n",
    "5. Write a query that avoids the use of an index to test performance differences."
   ]
  }
 ],
 "metadata": {
  "kernelspec": {
   "display_name": ".venv",
   "language": "python",
   "name": "python3"
  },
  "language_info": {
   "codemirror_mode": {
    "name": "ipython",
    "version": 3
   },
   "file_extension": ".py",
   "mimetype": "text/x-python",
   "name": "python",
   "nbconvert_exporter": "python",
   "pygments_lexer": "ipython3",
   "version": "3.13.1"
  }
 },
 "nbformat": 4,
 "nbformat_minor": 5
}
